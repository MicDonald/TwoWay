{
 "cells": [
  {
   "cell_type": "markdown",
   "metadata": {},
   "source": [
    "#Finite Kernel"
   ]
  },
  {
   "cell_type": "code",
   "execution_count": 60,
   "metadata": {
    "collapsed": false
   },
   "outputs": [
    {
     "name": "stdout",
     "output_type": "stream",
     "text": [
      "Once deleted, variables cannot be recovered. Proceed (y/[n])? y\n"
     ]
    }
   ],
   "source": [
    "%reset"
   ]
  },
  {
   "cell_type": "markdown",
   "metadata": {},
   "source": [
    "####import package"
   ]
  },
  {
   "cell_type": "code",
   "execution_count": 61,
   "metadata": {
    "collapsed": true
   },
   "outputs": [],
   "source": [
    "import numpy as np\n",
    "import math\n",
    "import matplotlib.pyplot as plt\n",
    "%matplotlib inline"
   ]
  },
  {
   "cell_type": "markdown",
   "metadata": {},
   "source": [
    "##Dynamic Matrix of Atomic Chain"
   ]
  },
  {
   "cell_type": "code",
   "execution_count": 158,
   "metadata": {
    "collapsed": false
   },
   "outputs": [
    {
     "name": "stdout",
     "output_type": "stream",
     "text": [
      "DV\n",
      "[[ 2 -1  0  0  0]\n",
      " [-1  2 -1  0  0]\n",
      " [ 0 -1  2 -1  0]\n",
      " [ 0  0 -1  2 -1]\n",
      " [ 0  0  0 -1  2]]\n",
      "DVR\n",
      "[[-1  0  0  0  0]\n",
      " [ 0  0  0  0  0]\n",
      " [ 0  0  0  0  0]\n",
      " [ 0  0  0  0  0]\n",
      " [ 0  0  0  0  0]]\n",
      "DVRf\n",
      "[[-1  0  0  0  0]\n",
      " [ 0  0  0  0  0]\n",
      " [ 0  0  0  0  0]\n",
      " [ 0  0  0  0  0]\n",
      " [ 0  0  0  0 -1]]\n"
     ]
    }
   ],
   "source": [
    "#k=[[4,-1],[-1,4]] for D-square K\n",
    "def D_atomChain(nLayer,sym):\n",
    "    dof=1*nLayer*1\n",
    "    if (sym=='V'):\n",
    "        D=np.matrix([[0 for row in range(0,dof)] for col in range(0,dof)]) #initialize Dv\n",
    "        for i in range(0,dof):\n",
    "            for j in range(0,dof):\n",
    "                if (i==j):D[i][0,j]=2.0\n",
    "                elif (abs(i-j)==1):D[i][0,j]=-1.0  \n",
    "\n",
    "    elif (sym=='VR'):\n",
    "        D=np.matrix([[0 for row in range(0,dof)] for col in range(0,dof)]) #initialize Dv\n",
    "        D[0][0,0]=-1.0\n",
    "    elif (sym=='VR_F'):\n",
    "        D=np.matrix([[0 for row in range(0,dof)] for col in range(0,dof)]) #initialize Dv\n",
    "        D[0][0,0]=-1.0\n",
    "        D[N][-1,-1]=-1.0\n",
    "    return D\n",
    "print 'DV\\n',D_atomChain(5,'V')\n",
    "print 'DVR\\n',D_atomChain(5,'VR')\n",
    "print 'DVRf\\n',D_atomChain(5,'VR_F')"
   ]
  },
  {
   "cell_type": "markdown",
   "metadata": {},
   "source": [
    "##Dynamic Matrix of Lattice Square"
   ]
  },
  {
   "cell_type": "code",
   "execution_count": 159,
   "metadata": {
    "collapsed": false
   },
   "outputs": [
    {
     "name": "stdout",
     "output_type": "stream",
     "text": [
      "DV\n",
      "[[ 4 -1  0  0  0  0]\n",
      " [-1  4 -1  0  0  0]\n",
      " [ 0 -1  4 -1  0  0]\n",
      " [ 0  0 -1  4 -1  0]\n",
      " [ 0  0  0 -1  4 -1]\n",
      " [ 0  0  0  0 -1  4]]\n",
      "DVR\n",
      "[[-1  0  0  0  0  0]\n",
      " [ 0  0  0  0  0  0]\n",
      " [ 0  0  0  0  0  0]\n",
      " [ 0  0  0  0  0  0]\n",
      " [ 0  0  0  0  0  0]\n",
      " [ 0  0  0  0  0  0]]\n",
      "DVRf\n",
      "[[-1  0  0  0  0  0]\n",
      " [ 0  0  0  0  0  0]\n",
      " [ 0  0  0  0  0  0]\n",
      " [ 0  0  0  0  0  0]\n",
      " [ 0  0  0  0  0  0]\n",
      " [ 0  0  0  0  0 -1]]\n"
     ]
    }
   ],
   "source": [
    "#k=[[4,-1],[-1,4]] for D-square K\n",
    "def D_square(nLayer,sym):\n",
    "    dof=3*nLayer*2\n",
    "    if (sym=='V'):\n",
    "        D=np.matrix([[0 for row in range(0,dof)] for col in range(0,dof)]) #initialize Dv\n",
    "        for i in range(0,dof):\n",
    "            for j in range(0,dof):\n",
    "                if (i==j):D[i][0,j]=4.0\n",
    "                elif (abs(i-j)==1):D[i][0,j]=-1.0  \n",
    "\n",
    "    elif (sym=='VR'):\n",
    "        D=np.matrix([[0 for row in range(0,dof)] for col in range(0,dof)]) #initialize Dv\n",
    "        D[0][0,0]=-1.0\n",
    "    elif (sym=='VR_F'):\n",
    "        D=np.matrix([[0 for row in range(0,dof)] for col in range(0,dof)]) #initialize Dv\n",
    "        D[0][0,0]=-1.0\n",
    "        D[N][-1,-1]=-1.0\n",
    "    return D\n",
    " \n",
    "print 'DV\\n',D_square(1,'V')\n",
    "print 'DVR\\n',D_square(1,'VR')\n",
    "print 'DVRf\\n',D_square(1,'VR_F')"
   ]
  },
  {
   "cell_type": "markdown",
   "metadata": {},
   "source": [
    "##Kernel Function Calculator"
   ]
  },
  {
   "cell_type": "code",
   "execution_count": 155,
   "metadata": {
    "collapsed": false
   },
   "outputs": [],
   "source": [
    "def FiniteKernel(DV,DVRf,TCut,Tstep,syms='_'):\n",
    "#------------------------------initialize---------------------------\n",
    "    nts=int(TCut/Tstep)\n",
    "    timeSeries = np.linspace(0,TCut,nts)\n",
    "    k = 1.0\n",
    "    m = 1.0\n",
    "    kernel1 = []\n",
    "    kernelN = []\n",
    "#-----------------------------find kernel---------------------------\n",
    "    [l,X]=np.linalg.eig(DV*k/m)\n",
    "    dof=l.size\n",
    "    for i in range(0,dof):\n",
    "        l[i]**=.5\n",
    "    sinF=lambda w,dt:np.sin(w*dt)/w\n",
    "    for dt in timeSeries:\n",
    "        thetaF = []\n",
    "        for i in range(0,dof):\n",
    "            thetaF.append(sinF(l[i],dt))\n",
    "        thetaF=np.diag(thetaF)\n",
    "        #kernel1.append(float(X.T*thetaF*X*DVRf*k/m))\n",
    "        #kernelN.append(float(X.T*thetaF*X*DVRf*k/m)) \n",
    "        kernel1.append(float(DVRf[0]*X*k/m*thetaF*X.T*DVRf[0].T*k/m))\n",
    "        kernelN.append(float(DVRf[0]*X*k/m*thetaF*X.T*DVRf[N].T*k/m))\n",
    "    print 'w:',l\n",
    "    return kernel1,kernelN,timeSeries\n",
    "\n"
   ]
  },
  {
   "cell_type": "markdown",
   "metadata": {},
   "source": [
    "## Finite-Kernel of Atomic Chain"
   ]
  },
  {
   "cell_type": "code",
   "execution_count": 156,
   "metadata": {
    "collapsed": false,
    "scrolled": false
   },
   "outputs": [
    {
     "name": "stdout",
     "output_type": "stream",
     "text": [
      "w: [ 1.99743301  1.98973865  1.97693665  1.95905988  1.93615424  1.90827851\n",
      "  1.87550426  1.83791562  1.79560908  1.74869323  1.69728851  1.64152688\n",
      "  1.58155147  1.51751625  1.44958557  1.37793384  1.30274497  1.22421197\n",
      "  1.14253643  0.10129834  0.20233664  0.30285556  0.40259704  0.50130506\n",
      "  0.59872625  0.69461051  0.78871171  0.8807883   1.05792802  0.97060393]\n"
     ]
    },
    {
     "data": {
      "image/png": "[encoded data removed]",
      "text/plain": [
       "<matplotlib.figure.Figure at 0x10fdfbed0>"
      ]
     },
     "metadata": {},
     "output_type": "display_data"
    }
   ],
   "source": [
    "N=5\n",
    "[kernel1,kernelN,ts]=FiniteKernel(D_atomChain(30,'V'),D_atomChain(30,'VR_F'),50,0.001)\n",
    "\n",
    "plt.plot(ts, kernel1, ts, kernelN, '-', linewidth=2)\n",
    "\n",
    "plt.show()"
   ]
  },
  {
   "cell_type": "markdown",
   "metadata": {},
   "source": [
    "## Finite-Kernel of Lattice Square"
   ]
  },
  {
   "cell_type": "code",
   "execution_count": 157,
   "metadata": {
    "collapsed": false
   },
   "outputs": [
    {
     "name": "stdout",
     "output_type": "stream",
     "text": [
      "w: [ 1.41977836  1.43625683  1.46302667  1.49912863  1.54336192  1.59438475\n",
      "  1.65080345  1.71124119  1.7743848   1.83901224  1.90400561  1.96835438\n",
      "  2.03115264  2.09159332  2.14896114  2.44626846  2.43663012  2.42065135\n",
      "  2.39846062  2.37023923  2.33622286  2.29670372  2.20262538  2.25203321]\n"
     ]
    },
    {
     "data": {
      "image/png": "[encoded data removed]",
      "text/plain": [
       "<matplotlib.figure.Figure at 0x10fd221d0>"
      ]
     },
     "metadata": {},
     "output_type": "display_data"
    }
   ],
   "source": [
    "N=-1\n",
    "[kernel1,kernelN,ts]=FiniteKernel(D_square(4,'V'),D_square(4,'VR_F'),100,0.001)\n",
    "\n",
    "plt.plot(ts, kernel1,ts, kernelN, '-', linewidth=2)\n",
    "\n",
    "plt.show()"
   ]
  },
  {
   "cell_type": "code",
   "execution_count": null,
   "metadata": {
    "collapsed": true
   },
   "outputs": [],
   "source": []
  }
 ],
 "metadata": {
  "kernelspec": {
   "display_name": "Python 2",
   "language": "python",
   "name": "python2"
  },
  "language_info": {
   "codemirror_mode": {
    "name": "ipython",
    "version": 2
   },
   "file_extension": ".py",
   "mimetype": "text/x-python",
   "name": "python",
   "nbconvert_exporter": "python",
   "pygments_lexer": "ipython2",
   "version": "2.7.10"
  }
 },
 "nbformat": 4,
 "nbformat_minor": 0
}
