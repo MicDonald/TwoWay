{
 "cells": [
  {
   "cell_type": "markdown",
   "metadata": {},
   "source": [
    "#Finite Kernel"
   ]
  },
  {
   "cell_type": "code",
   "execution_count": 5,
   "metadata": {
    "collapsed": false
   },
   "outputs": [
    {
     "name": "stdout",
     "output_type": "stream",
     "text": [
      "Once deleted, variables cannot be recovered. Proceed (y/[n])? y\n"
     ]
    }
   ],
   "source": [
    "%reset\n",
    "#kernel#\n",
    "N=5"
   ]
  },
  {
   "cell_type": "markdown",
   "metadata": {},
   "source": [
    "####import package"
   ]
  },
  {
   "cell_type": "code",
   "execution_count": 6,
   "metadata": {
    "collapsed": true
   },
   "outputs": [],
   "source": [
    "import numpy as np\n",
    "import math\n",
    "import matplotlib.pyplot as plt\n",
    "%matplotlib inline"
   ]
  },
  {
   "cell_type": "markdown",
   "metadata": {},
   "source": [
    "##Dynamic Matrix of Atomic Chain"
   ]
  },
  {
   "cell_type": "code",
   "execution_count": 7,
   "metadata": {
    "collapsed": true
   },
   "outputs": [
    {
     "name": "stdout",
     "output_type": "stream",
     "text": [
      "DV\n",
      "[[ 2. -1.  0.  0.  0.  0.  0.  0.  0.  0.]\n",
      " [-1.  2. -1.  0.  0.  0.  0.  0.  0.  0.]\n",
      " [ 0. -1.  2. -1.  0.  0.  0.  0.  0.  0.]\n",
      " [ 0.  0. -1.  2. -1.  0.  0.  0.  0.  0.]\n",
      " [ 0.  0.  0. -1.  2. -1.  0.  0.  0.  0.]\n",
      " [ 0.  0.  0.  0. -1.  2. -1.  0.  0.  0.]\n",
      " [ 0.  0.  0.  0.  0. -1.  2. -1.  0.  0.]\n",
      " [ 0.  0.  0.  0.  0.  0. -1.  2. -1.  0.]\n",
      " [ 0.  0.  0.  0.  0.  0.  0. -1.  2. -1.]\n",
      " [ 0.  0.  0.  0.  0.  0.  0.  0. -1.  2.]]\n",
      "DVR\n",
      "[[-1.  0.  0.  0.  0.  0.  0.  0.  0.  0.]\n",
      " [ 0.  0.  0.  0.  0.  0.  0.  0.  0.  0.]\n",
      " [ 0.  0.  0.  0.  0.  0.  0.  0.  0.  0.]\n",
      " [ 0.  0.  0.  0.  0.  0.  0.  0.  0.  0.]\n",
      " [ 0.  0.  0.  0.  0.  0.  0.  0.  0.  0.]\n",
      " [ 0.  0.  0.  0.  0.  0.  0.  0.  0.  0.]\n",
      " [ 0.  0.  0.  0.  0.  0.  0.  0.  0.  0.]\n",
      " [ 0.  0.  0.  0.  0.  0.  0.  0.  0.  0.]\n",
      " [ 0.  0.  0.  0.  0.  0.  0.  0.  0.  0.]\n",
      " [ 0.  0.  0.  0.  0.  0.  0.  0.  0.  0.]]\n",
      "DVRf\n",
      "[[-1.  0.  0.  0.  0.  0.  0.  0.  0.  0.]\n",
      " [ 0.  0.  0.  0.  0.  0.  0.  0.  0.  0.]\n",
      " [ 0.  0.  0.  0.  0.  0.  0.  0.  0.  0.]\n",
      " [ 0.  0.  0.  0.  0.  0.  0.  0.  0.  0.]\n",
      " [ 0.  0.  0.  0.  0.  0.  0.  0.  0.  0.]\n",
      " [ 0.  0.  0.  0.  0.  0.  0.  0.  0. -1.]\n",
      " [ 0.  0.  0.  0.  0.  0.  0.  0.  0.  0.]\n",
      " [ 0.  0.  0.  0.  0.  0.  0.  0.  0.  0.]\n",
      " [ 0.  0.  0.  0.  0.  0.  0.  0.  0.  0.]\n",
      " [ 0.  0.  0.  0.  0.  0.  0.  0.  0.  0.]]\n"
     ]
    }
   ],
   "source": [
    "#k=[[4,-1],[-1,4]] for D-square K\n",
    "def D_atomChain(nLayer,sym,k=1.0,m=1.0):\n",
    "    dof=1*nLayer*1\n",
    "    D=np.matrix([[0 for row in range(0,dof)] for col in range(0,dof)]) #initialize Dv\n",
    "    if (sym=='V'):\n",
    "        for i in range(0,dof):\n",
    "            for j in range(0,dof):\n",
    "                if (i==j):D[i][0,j]=2.0\n",
    "                elif (abs(i-j)==1):D[i][0,j]=-1.0  \n",
    "\n",
    "    elif (sym=='VR'):\n",
    "        D[0][0,0]=-1.0\n",
    "    elif (sym=='VR_F'):\n",
    "        D[0][0,0]=-1.0\n",
    "        D[N][-1,-1]=-1.0\n",
    "    return D*k/m\n",
    "print 'DV\\n',D_atomChain(10,'V')\n",
    "print 'DVR\\n',D_atomChain(10,'VR')\n",
    "print 'DVRf\\n',D_atomChain(10,'VR_F')"
   ]
  },
  {
   "cell_type": "markdown",
   "metadata": {},
   "source": [
    "##Dynamic Matrix of Lattice Square"
   ]
  },
  {
   "cell_type": "code",
   "execution_count": 8,
   "metadata": {
    "collapsed": true
   },
   "outputs": [
    {
     "name": "stdout",
     "output_type": "stream",
     "text": [
      "DV\n",
      "[[ 4. -1.  0.  0.  0.  0.  0.  0.  0.  0.  0.]\n",
      " [-1.  4. -1.  0.  0.  0.  0.  0.  0.  0.  0.]\n",
      " [ 0. -1.  4. -1.  0.  0.  0.  0.  0.  0.  0.]\n",
      " [ 0.  0. -1.  4. -1.  0.  0.  0.  0.  0.  0.]\n",
      " [ 0.  0.  0. -1.  4. -1.  0.  0.  0.  0.  0.]\n",
      " [ 0.  0.  0.  0. -1.  4. -1.  0.  0.  0.  0.]\n",
      " [ 0.  0.  0.  0.  0. -1.  4. -1.  0.  0.  0.]\n",
      " [ 0.  0.  0.  0.  0.  0. -1.  4. -1.  0.  0.]\n",
      " [ 0.  0.  0.  0.  0.  0.  0. -1.  4. -1.  0.]\n",
      " [ 0.  0.  0.  0.  0.  0.  0.  0. -1.  4. -1.]\n",
      " [ 0.  0.  0.  0.  0.  0.  0.  0.  0. -1.  4.]]\n",
      "DVR\n",
      "[[-1.  0.  0.  0.  0.  0.  0.  0.  0.  0.  0.]\n",
      " [ 0.  0.  0.  0.  0.  0.  0.  0.  0.  0.  0.]\n",
      " [ 0.  0.  0.  0.  0.  0.  0.  0.  0.  0.  0.]\n",
      " [ 0.  0.  0.  0.  0.  0.  0.  0.  0.  0.  0.]\n",
      " [ 0.  0.  0.  0.  0.  0.  0.  0.  0.  0.  0.]\n",
      " [ 0.  0.  0.  0.  0.  0.  0.  0.  0.  0.  0.]\n",
      " [ 0.  0.  0.  0.  0.  0.  0.  0.  0.  0.  0.]\n",
      " [ 0.  0.  0.  0.  0.  0.  0.  0.  0.  0.  0.]\n",
      " [ 0.  0.  0.  0.  0.  0.  0.  0.  0.  0.  0.]\n",
      " [ 0.  0.  0.  0.  0.  0.  0.  0.  0.  0.  0.]\n",
      " [ 0.  0.  0.  0.  0.  0.  0.  0.  0.  0.  0.]]\n",
      "DVRf\n",
      "[[-1.  0.  0.  0.  0.  0.  0.  0.  0.  0.  0.]\n",
      " [ 0.  0.  0.  0.  0.  0.  0.  0.  0.  0.  0.]\n",
      " [ 0.  0.  0.  0.  0.  0.  0.  0.  0.  0.  0.]\n",
      " [ 0.  0.  0.  0.  0.  0.  0.  0.  0.  0.  0.]\n",
      " [ 0.  0.  0.  0.  0.  0.  0.  0.  0.  0.  0.]\n",
      " [ 0.  0.  0.  0.  0.  0.  0.  0.  0.  0. -1.]\n",
      " [ 0.  0.  0.  0.  0.  0.  0.  0.  0.  0.  0.]\n",
      " [ 0.  0.  0.  0.  0.  0.  0.  0.  0.  0.  0.]\n",
      " [ 0.  0.  0.  0.  0.  0.  0.  0.  0.  0.  0.]\n",
      " [ 0.  0.  0.  0.  0.  0.  0.  0.  0.  0.  0.]\n",
      " [ 0.  0.  0.  0.  0.  0.  0.  0.  0.  0.  0.]]\n"
     ]
    }
   ],
   "source": [
    "#k=[[4,-1],[-1,4]] for D-square K\n",
    "def D_square(nLayer,sym,k=1.0,m=1.0):\n",
    "    dof=1*nLayer*1\n",
    "    if (sym=='V'):\n",
    "        D=np.matrix([[0 for row in range(0,dof)] for col in range(0,dof)]) #initialize Dv\n",
    "        for i in range(0,dof):\n",
    "            for j in range(0,dof):\n",
    "                if (i==j):D[i][0,j]=4.0\n",
    "                elif (abs(i-j)==1):D[i][0,j]=-1.0  \n",
    "\n",
    "    elif (sym=='VR'):\n",
    "        D=np.matrix([[0 for row in range(0,dof)] for col in range(0,dof)]) #initialize Dv\n",
    "        D[0][0,0]=-1.0\n",
    "    elif (sym=='VR_F'):\n",
    "        D=np.matrix([[0 for row in range(0,dof)] for col in range(0,dof)]) #initialize Dv\n",
    "        D[0][0,0]=-1.0\n",
    "        D[N][-1,-1]=-1.0\n",
    "    return D*k/m\n",
    " \n",
    "print 'DV\\n',D_square(11,'V')\n",
    "print 'DVR\\n',D_square(11,'VR')\n",
    "print 'DVRf\\n',D_square(11,'VR_F')"
   ]
  },
  {
   "cell_type": "markdown",
   "metadata": {},
   "source": [
    "##Dynamic Matrix of Lattice Triangular"
   ]
  },
  {
   "cell_type": "code",
   "execution_count": 218,
   "metadata": {
    "collapsed": true
   },
   "outputs": [
    {
     "name": "stdout",
     "output_type": "stream",
     "text": [
      "DV\n",
      "[[ 3.         0.        -1.        -0.4330127]\n",
      " [ 0.         3.        -0.4330127 -1.       ]\n",
      " [-1.        -0.4330127  3.         0.       ]\n",
      " [-0.4330127 -1.         0.         3.       ]]\n",
      "DVRf\n",
      "[[-1.         0.        -1.         0.4330127]\n",
      " [ 0.         0.         0.4330127 -1.       ]\n",
      " [ 0.         0.        -1.         0.       ]\n",
      " [ 0.         0.         0.         0.       ]]\n"
     ]
    }
   ],
   "source": [
    "#k=[[4,-1],[-1,4]] for D-triangular K\n",
    "def D_triangular(nLayer,sym,k=1.0,m=1.0):\n",
    "    dof=2*nLayer*2\n",
    "    D00=np.matrix([[3, 0, -1/4, -(3**0.5)/4],[0, 3, -(3**0.5)/4, -3/4],[-1/4, -(3**0.5)/4, 3, 0],[-(3**0.5)/4, -3/4, 0, 3]])\n",
    "    D01=np.matrix([[0, 0, 0, 0],[0, 0, 0, 0],[-1/4, (3**0.5)/4, 0, 0],[(3**0.5)/4, -3/4, 0, 0]])\n",
    "    D0_1=D01.T\n",
    "    D10=np.matrix([[-1, 0, 0, 0],[0, 0, 0, 0],[-1/4, (3**0.5)/4, -1, 0],[(3**0.5)/4, -3/4, 0, 0]])\n",
    "    D_10=D10.T\n",
    "    D11=np.matrix([[0, 0, 0, 0],[0, 0, 0, 0],[-1/4, -(3**0.5)/4, 0, 0],[(3**0.5)/4, -3/4, 0, 0]])\n",
    "    D_1_1=D11.T\n",
    "    D1_1=np.matrix([[0, 0, 0, 0],[0, 0, 0, 0],[0, 0, 0, 0],[0, 0, 0, 0]])\n",
    "    D_11=D1_1.T\n",
    "    D=np.matrix([[0. for row in range(0,dof)] for col in range(0,dof)]) #initialize D\n",
    "    if (sym=='V'):\n",
    "        for row in range(0,dof):\n",
    "            for col in range(0,dof):\n",
    "                i=row/4\n",
    "                j=col/4\n",
    "                if (i==j):\n",
    "                    D[row][0,col]=D00[row%4][0,col%4]\n",
    "                elif (j-i==1):\n",
    "                    D[row][0,col]=D01[row%4][0,col%4]\n",
    "                elif (i-j==1):\n",
    "                    D[row][0,col]=D0_1[row%4][0,col%4]\n",
    "                else:\n",
    "                    D[row][0,col]=0\n",
    "    elif (sym=='VR_F'):\n",
    "        for row in range(0,dof):\n",
    "            for col in range(0,dof):\n",
    "                i=row/4\n",
    "                j=col/4\n",
    "                if (i==j):\n",
    "                    D[row][0,col]=D_10[row%4][0,col%4]\n",
    "                elif (j-i==1):\n",
    "                    D[row][0,col]=D_11[row%4][0,col%4]\n",
    "                elif (i-j==1):\n",
    "                    D[row][0,col]=D_1_1[row%4][0,col%4]\n",
    "                else:\n",
    "                    D[row][0,col]=0\n",
    "    \n",
    "    return D*k/m\n",
    " \n",
    "print 'DV\\n',D_triangular(1,'V')\n",
    "#print 'DVR\\n',D_triangular(4,'VR')\n",
    "print 'DVRf\\n',D_triangular(1,'VR_F')"
   ]
  },
  {
   "cell_type": "markdown",
   "metadata": {},
   "source": [
    "##Kernel Stiffness Matrix"
   ]
  },
  {
   "cell_type": "code",
   "execution_count": 275,
   "metadata": {
    "collapsed": true
   },
   "outputs": [],
   "source": []
  },
  {
   "cell_type": "code",
   "execution_count": 282,
   "metadata": {
    "collapsed": false
   },
   "outputs": [],
   "source": []
  },
  {
   "cell_type": "code",
   "execution_count": 283,
   "metadata": {
    "collapsed": false
   },
   "outputs": [
    {
     "data": {
      "text/plain": [
       "[1, 3]"
      ]
     },
     "execution_count": 283,
     "metadata": {},
     "output_type": "execute_result"
    }
   ],
   "source": []
  },
  {
   "cell_type": "code",
   "execution_count": 284,
   "metadata": {
    "collapsed": false
   },
   "outputs": [
    {
     "ename": "TypeError",
     "evalue": "'list' object is not callable",
     "output_type": "error",
     "traceback": [
      "\u001b[0;31m---------------------------------------------------------------------------\u001b[0m",
      "\u001b[0;31mTypeError\u001b[0m                                 Traceback (most recent call last)",
      "\u001b[0;32m<ipython-input-284-ab54274e839c>\u001b[0m in \u001b[0;36m<module>\u001b[0;34m()\u001b[0m\n\u001b[1;32m     12\u001b[0m \u001b[0mprescribedDof\u001b[0m \u001b[0;34m=\u001b[0m \u001b[0;34m[\u001b[0m\u001b[0;36m13\u001b[0m\u001b[0;34m,\u001b[0m\u001b[0;36m14\u001b[0m\u001b[0;34m,\u001b[0m\u001b[0;36m27\u001b[0m\u001b[0;34m,\u001b[0m\u001b[0;36m28\u001b[0m\u001b[0;34m,\u001b[0m\u001b[0;36m41\u001b[0m\u001b[0;34m,\u001b[0m\u001b[0;36m42\u001b[0m\u001b[0;34m]\u001b[0m\u001b[0;34m;\u001b[0m\u001b[0;34m\u001b[0m\u001b[0m\n\u001b[1;32m     13\u001b[0m \u001b[0;34m\u001b[0m\u001b[0m\n\u001b[0;32m---> 14\u001b[0;31m \u001b[0mstiffness\u001b[0m\u001b[0;34m=\u001b[0m\u001b[0mformStiffness2D\u001b[0m\u001b[0;34m(\u001b[0m\u001b[0mGDof\u001b[0m\u001b[0;34m,\u001b[0m\u001b[0mnumberElements\u001b[0m\u001b[0;34m,\u001b[0m\u001b[0melementNodes\u001b[0m\u001b[0;34m,\u001b[0m\u001b[0mnumberNodes\u001b[0m\u001b[0;34m,\u001b[0m\u001b[0mnodeCoordinates\u001b[0m\u001b[0;34m,\u001b[0m\u001b[0mD\u001b[0m\u001b[0;34m,\u001b[0m\u001b[0;36m1\u001b[0m\u001b[0;34m)\u001b[0m\u001b[0;34m\u001b[0m\u001b[0m\n\u001b[0m",
      "\u001b[0;32m<ipython-input-282-a739d943a99a>\u001b[0m in \u001b[0;36mformStiffness2D\u001b[0;34m(GDof, numberElements, elementNodes, numberNodes, nodeCoordinates, D, thickness)\u001b[0m\n\u001b[1;32m     13\u001b[0m             \u001b[0melementDof\u001b[0m\u001b[0;34m[\u001b[0m\u001b[0;36m2\u001b[0m\u001b[0;34m*\u001b[0m\u001b[0mi\u001b[0m\u001b[0;34m]\u001b[0m\u001b[0;34m=\u001b[0m\u001b[0;36m2\u001b[0m\u001b[0;34m*\u001b[0m\u001b[0melementNodes\u001b[0m\u001b[0;34m[\u001b[0m\u001b[0me\u001b[0m\u001b[0;34m]\u001b[0m\u001b[0;34m[\u001b[0m\u001b[0mi\u001b[0m\u001b[0;34m]\u001b[0m\u001b[0;34m\u001b[0m\u001b[0m\n\u001b[1;32m     14\u001b[0m \u001b[0;34m\u001b[0m\u001b[0m\n\u001b[0;32m---> 15\u001b[0;31m         \u001b[0ma\u001b[0m \u001b[0;34m=\u001b[0m \u001b[0;36m0.5\u001b[0m\u001b[0;34m*\u001b[0m\u001b[0mabs\u001b[0m\u001b[0;34m(\u001b[0m\u001b[0mnodeCoordinates\u001b[0m\u001b[0;34m(\u001b[0m\u001b[0melementNodes\u001b[0m\u001b[0;34m(\u001b[0m\u001b[0me\u001b[0m\u001b[0;34m,\u001b[0m\u001b[0;36m2\u001b[0m\u001b[0;34m)\u001b[0m\u001b[0;34m,\u001b[0m\u001b[0;36m1\u001b[0m\u001b[0;34m)\u001b[0m \u001b[0;34m-\u001b[0m \u001b[0mnodeCoordinates\u001b[0m\u001b[0;34m(\u001b[0m\u001b[0melementNodes\u001b[0m\u001b[0;34m(\u001b[0m\u001b[0me\u001b[0m\u001b[0;34m,\u001b[0m\u001b[0;36m1\u001b[0m\u001b[0;34m)\u001b[0m\u001b[0;34m,\u001b[0m\u001b[0;36m1\u001b[0m\u001b[0;34m)\u001b[0m\u001b[0;34m)\u001b[0m\u001b[0;34m\u001b[0m\u001b[0m\n\u001b[0m\u001b[1;32m     16\u001b[0m         \u001b[0mb\u001b[0m \u001b[0;34m=\u001b[0m \u001b[0;36m0.5\u001b[0m\u001b[0;34m*\u001b[0m\u001b[0mabs\u001b[0m\u001b[0;34m(\u001b[0m\u001b[0mnodeCoordinates\u001b[0m\u001b[0;34m(\u001b[0m\u001b[0melementNodes\u001b[0m\u001b[0;34m(\u001b[0m\u001b[0me\u001b[0m\u001b[0;34m,\u001b[0m\u001b[0;36m3\u001b[0m\u001b[0;34m)\u001b[0m\u001b[0;34m,\u001b[0m\u001b[0;36m2\u001b[0m\u001b[0;34m)\u001b[0m \u001b[0;34m-\u001b[0m \u001b[0mnodeCoordinates\u001b[0m\u001b[0;34m(\u001b[0m\u001b[0melementNodes\u001b[0m\u001b[0;34m(\u001b[0m\u001b[0me\u001b[0m\u001b[0;34m,\u001b[0m\u001b[0;36m2\u001b[0m\u001b[0;34m)\u001b[0m\u001b[0;34m,\u001b[0m\u001b[0;36m2\u001b[0m\u001b[0;34m)\u001b[0m\u001b[0;34m)\u001b[0m\u001b[0;34m\u001b[0m\u001b[0m\n\u001b[1;32m     17\u001b[0m \u001b[0;34m\u001b[0m\u001b[0m\n",
      "\u001b[0;31mTypeError\u001b[0m: 'list' object is not callable"
     ]
    }
   ],
   "source": [
    "numberElements = 9\n",
    "numberNodes = 16\n",
    "elementNodes=[[1,5,6,2],[2,6,7,3],[3,7,8,4],\n",
    "              [5,9,10,6],[6,10,11,7],[7,11,12,8],\n",
    "              [9,13,14,10],[10,14,15,11],[11,15,16,12]];\n",
    "nodeCoordinates=[[0,0],[0,1],[0,2],[0,3],\n",
    "                 [1,0],[1,1],[1,2],[1,3],\n",
    "                 [2,0],[2,1],[2,2],[2,3],\n",
    "                 [3,0],[3,1],[3,2],[3,3],]\n",
    "GDof = 2*numberNodes;\n",
    "\n",
    "prescribedDof = [13,14,27,28,41,42];\n",
    "\n",
    "stiffness=formStiffness2D(GDof,numberElements,elementNodes,numberNodes,nodeCoordinates,D,1)"
   ]
  },
  {
   "cell_type": "code",
   "execution_count": 238,
   "metadata": {
    "collapsed": false
   },
   "outputs": [
    {
     "data": {
      "text/plain": [
       "[]"
      ]
     },
     "execution_count": 238,
     "metadata": {},
     "output_type": "execute_result"
    }
   ],
   "source": [
    "elementNodes=[]\n",
    "elementNodes[0]=[]\n",
    "elementNodes"
   ]
  },
  {
   "cell_type": "markdown",
   "metadata": {},
   "source": [
    "##Kernel Function Calculator"
   ]
  },
  {
   "cell_type": "code",
   "execution_count": 5,
   "metadata": {
    "collapsed": false
   },
   "outputs": [],
   "source": [
    "def FiniteKernel(DV,DVRf,TCut,Tstep,m=1.0,k=1.0,syms='_'):\n",
    "#------------------------------initialize---------------------------\n",
    "    nts=int(TCut/Tstep)\n",
    "    timeSeries = np.linspace(0,TCut,nts)\n",
    "    kernel1 = []\n",
    "    kernelN = []\n",
    "#-----------------------------find kernel---------------------------\n",
    "    [l,X]=np.linalg.eig(DV)\n",
    "    dof=l.size\n",
    "    for i in range(0,dof):\n",
    "        l[i]**=.5\n",
    "    sinF=lambda w,dt:np.sin(w*dt)/w\n",
    "    for dt in timeSeries:\n",
    "        thetaF = []\n",
    "        for i in range(0,dof):\n",
    "            thetaF.append(sinF(l[i],dt))\n",
    "        thetaF=np.diag(thetaF)\n",
    "        #kernel1.append(float(X.T*thetaF*X*DVRf*k/m))\n",
    "        #kernelN.append(float(X.T*thetaF*X*DVRf*k/m)) \n",
    "        kernel1.append(float(DVRf[0]*X*thetaF*X.T*DVRf[0].T))\n",
    "        kernelN.append(float(DVRf[0]*X*thetaF*X.T*(DVRf.T)[-1].T))\n",
    "    #print 'DVRf:',(DVRf.T)[-1].T\n",
    "    l.sort()\n",
    "    print 'w:',l\n",
    "    return kernel1,kernelN,timeSeries\n",
    "\n"
   ]
  },
  {
   "cell_type": "markdown",
   "metadata": {},
   "source": [
    "## Finite-Kernel of 1D Atomic Chain"
   ]
  },
  {
   "cell_type": "code",
   "execution_count": 6,
   "metadata": {
    "collapsed": false,
    "scrolled": false
   },
   "outputs": [
    {
     "name": "stdout",
     "output_type": "stream",
     "text": [
      "w: [ 0.10129834  0.20233664  0.30285556  0.40259704  0.50130506  0.59872625\n",
      "  0.69461051  0.78871171  0.8807883   0.97060393  1.05792802  1.14253643\n",
      "  1.22421197  1.30274497  1.37793384  1.44958557  1.51751625  1.58155147\n",
      "  1.64152688  1.69728851  1.74869323  1.79560908  1.83791562  1.87550426\n",
      "  1.90827851  1.93615424  1.95905988  1.97693665  1.98973865  1.99743301]\n"
     ]
    },
    {
     "data": {
      "image/png": "[encoded data removed]",
      "text/plain": [
       "<matplotlib.figure.Figure at 0x11061ad10>"
      ]
     },
     "metadata": {},
     "output_type": "display_data"
    }
   ],
   "source": [
    "N=5\n",
    "[kernel1,kernelN,ts]=FiniteKernel(D_atomChain(30,'V',1.0,1.0),D_atomChain(30,'VR_F',1.0,1.0),100,0.01)\n",
    "\n",
    "plt.plot(ts, kernel1, ts, kernelN, '-', linewidth=2)\n",
    "\n",
    "plt.show()"
   ]
  },
  {
   "cell_type": "markdown",
   "metadata": {},
   "source": [
    "## Finite-Kernel of 2D Lattice Square"
   ]
  },
  {
   "cell_type": "code",
   "execution_count": 7,
   "metadata": {
    "collapsed": false
   },
   "outputs": [
    {
     "name": "stdout",
     "output_type": "stream",
     "text": [
      "w: [ 1.41555408  1.41956295  1.42620258  1.43541148  1.44710608  1.46118293\n",
      "  1.47752139  1.4959865   1.51643191  1.53870276  1.56263843  1.58807499\n",
      "  1.61484739  1.64279134  1.67174482  1.70154931  1.73205081  1.76310048\n",
      "  1.79455517  1.82627774  1.85813724  1.89000895  1.92177436  1.95332109\n",
      "  1.98454274  2.01533871  2.04561402  2.07527909  2.10424955  2.13244601\n",
      "  2.15979388  2.18622317  2.21166831  2.23606798  2.25936494  2.28150592\n",
      "  2.30244144  2.32212573  2.34051657  2.35757527  2.37326649  2.38755822\n",
      "  2.40042171  2.41183137  2.42176474  2.43020246  2.4371282   2.44252865\n",
      "  2.44639347  2.44871531]\n"
     ]
    },
    {
     "data": {
      "image/png": "[encoded data removed]",
      "text/plain": [
       "<matplotlib.figure.Figure at 0x1106fa150>"
      ]
     },
     "metadata": {},
     "output_type": "display_data"
    }
   ],
   "source": [
    "N=11\n",
    "[kernel1,kernelN,ts]=FiniteKernel(D_square(50,'V',1.0,1.0),D_square(50,'VR_F',1.0,1.0),200,0.001)\n",
    "\n",
    "plt.plot(ts, kernel1,ts, kernelN, '-', linewidth=2)\n",
    "\n",
    "plt.show()"
   ]
  },
  {
   "cell_type": "code",
   "execution_count": 12,
   "metadata": {
    "collapsed": false
   },
   "outputs": [],
   "source": [
    "fout = open(\"k1/1_0z-1_0z\", \"w\")\n",
    "for e in kernel1:\n",
    "    fout.write(str(e)+'\\n')\n",
    "    \n",
    "fout = open(\"kN/1_0z-1_0z\", \"w\")\n",
    "for e in kernelN:\n",
    "    fout.write(str(e)+'\\n')\n",
    "    \n",
    "fout = open(\"noKernel\", \"w\")\n",
    "for e in kernelN:\n",
    "    fout.write(str(0)+'\\n')"
   ]
  },
  {
   "cell_type": "code",
   "execution_count": null,
   "metadata": {
    "collapsed": true
   },
   "outputs": [],
   "source": []
  }
 ],
 "metadata": {
  "kernelspec": {
   "display_name": "Python 2",
   "language": "python",
   "name": "python2"
  },
  "language_info": {
   "codemirror_mode": {
    "name": "ipython",
    "version": 2
   },
   "file_extension": ".py",
   "mimetype": "text/x-python",
   "name": "python",
   "nbconvert_exporter": "python",
   "pygments_lexer": "ipython2",
   "version": "2.7.10"
  }
 },
 "nbformat": 4,
 "nbformat_minor": 0
}
