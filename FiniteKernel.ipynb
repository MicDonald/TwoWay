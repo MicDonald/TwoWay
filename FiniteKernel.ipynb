{
 "cells": [
  {
   "cell_type": "markdown",
   "metadata": {},
   "source": [
    "#Finite Kernel"
   ]
  },
  {
   "cell_type": "code",
   "execution_count": 2,
   "metadata": {
    "collapsed": false
   },
   "outputs": [
    {
     "name": "stdout",
     "output_type": "stream",
     "text": [
      "Once deleted, variables cannot be recovered. Proceed (y/[n])? y\n"
     ]
    }
   ],
   "source": [
    "%reset"
   ]
  },
  {
   "cell_type": "markdown",
   "metadata": {},
   "source": [
    "####import package"
   ]
  },
  {
   "cell_type": "code",
   "execution_count": 3,
   "metadata": {
    "collapsed": true
   },
   "outputs": [],
   "source": [
    "import numpy as np\n",
    "import math\n",
    "import matplotlib.pyplot as plt\n",
    "%matplotlib inline"
   ]
  },
  {
   "cell_type": "markdown",
   "metadata": {},
   "source": [
    "##Dynamic Stiffness Matrix of Arbitrary Matrix"
   ]
  },
  {
   "cell_type": "code",
   "execution_count": 249,
   "metadata": {
    "collapsed": false,
    "scrolled": false
   },
   "outputs": [
    {
     "name": "stdout",
     "output_type": "stream",
     "text": [
      "[[ 0.  0.  0.  0.  0.  0.]\n",
      " [ 0.  1.  0.  0. -1.  0.]\n",
      " [ 0.  0.  0.  0.  0.  0.]\n",
      " [ 0.  0.  0.  0.  0.  0.]\n",
      " [ 0. -1.  0.  0.  1.  0.]\n",
      " [ 0.  0.  0.  0.  0.  0.]]\n",
      "[3, 4, 5, 0, 1, 2]\n",
      "[0, 1, 2, 6, 7, 8]\n",
      "[0, 1, 2, 9, 10, 11]\n",
      "[12, 13, 14, 0, 1, 2]\n",
      "[[ 2.  0.  0.  0.  0.  0. -1.  0.  0.  0.  0.  0. -1.  0.  0.]\n",
      " [ 0.  2.  0.  0. -1.  0.  0.  0.  0.  0. -1.  0.  0.  0.  0.]\n",
      " [ 0.  0.  0.  0.  0.  0.  0.  0.  0.  0.  0.  0.  0.  0.  0.]\n",
      " [ 0.  0.  0.  0.  0.  0.  0.  0.  0.  0.  0.  0.  0.  0.  0.]\n",
      " [ 0. -1.  0.  0.  1.  0.  0.  0.  0.  0.  0.  0.  0.  0.  0.]\n",
      " [ 0.  0.  0.  0.  0.  0.  0.  0.  0.  0.  0.  0.  0.  0.  0.]\n",
      " [-1.  0.  0.  0.  0.  0.  1.  0.  0.  0.  0.  0.  0.  0.  0.]\n",
      " [ 0.  0.  0.  0.  0.  0.  0.  0.  0.  0.  0.  0.  0.  0.  0.]\n",
      " [ 0.  0.  0.  0.  0.  0.  0.  0.  0.  0.  0.  0.  0.  0.  0.]\n",
      " [ 0.  0.  0.  0.  0.  0.  0.  0.  0.  0.  0.  0.  0.  0.  0.]\n",
      " [ 0. -1.  0.  0.  0.  0.  0.  0.  0.  0.  1.  0.  0.  0.  0.]\n",
      " [ 0.  0.  0.  0.  0.  0.  0.  0.  0.  0.  0.  0.  0.  0.  0.]\n",
      " [-1.  0.  0.  0.  0.  0.  0.  0.  0.  0.  0.  0.  1.  0.  0.]\n",
      " [ 0.  0.  0.  0.  0.  0.  0.  0.  0.  0.  0.  0.  0.  0.  0.]\n",
      " [ 0.  0.  0.  0.  0.  0.  0.  0.  0.  0.  0.  0.  0.  0.  0.]]\n",
      "   0x  0y  0z  1x  1y  1z  2x  2y  2z  3x  3y  3z  4x  4y  4z\n"
     ]
    }
   ],
   "source": [
    "def Ke(node1,node2):\n",
    "    L=((node1[0]-node2[0])**2+(node1[1]-node2[1])**2+(node1[2]-node2[2])**2)**0.5\n",
    "    cx=(node2[0]-node1[0])/L*1.\n",
    "    cy=(node2[1]-node1[1])/L*1.\n",
    "    cz=(node2[2]-node1[2])/L*1.\n",
    "#    J=np.matrix([[math.cos(py_angle(La[0],Ga[0])),math.cos(py_angle(La[0],Ga[1])),math.cos(py_angle(La[0],Ga[2])),0,0,0],\n",
    "#       [math.cos(py_angle(La[1],Ga[0])),math.cos(py_angle(La[1],Ga[1])),math.cos(py_angle(La[1],Ga[2])),0,0,0],\n",
    "#       [math.cos(py_angle(La[2],Ga[0])),math.cos(py_angle(La[2],Ga[1])),math.cos(py_angle(La[2],Ga[2])),0,0,0],\n",
    "#       [0,0,0,math.cos(py_angle(La[0],Ga[0])),math.cos(py_angle(La[0],Ga[1])),math.cos(py_angle(La[0],Ga[2]))],\n",
    "#       [0,0,0,math.cos(py_angle(La[1],Ga[0])),math.cos(py_angle(La[1],Ga[1])),math.cos(py_angle(La[1],Ga[2]))],\n",
    "#       [0,0,0,math.cos(py_angle(La[2],Ga[0])),math.cos(py_angle(La[2],Ga[1])),math.cos(py_angle(La[2],Ga[2]))]])\n",
    "    J=np.matrix([[cx,cy,cz,0.,0.,0.],[0.,0.,0.,cx,cy,cz]])\n",
    "    Ke=J.T*np.matrix([[1.,-1.],[-1.,1.]])*J\n",
    "    return Ke\n",
    "#print Ke([0,0,0],[0,1,0])\n",
    "def D_assemble(numberNode,numberBonds,bondsNodes,nodeCoordinates):\n",
    "    GDof=numberNode*3\n",
    "    D=np.matrix([[0. for row in range(0,GDof)] for col in range(0,GDof)]) #initialize D\n",
    "    for e in range(0,numberBonds):\n",
    "        numEDOF = 6\n",
    "        elementDof=[0.,0.,0.,0.,0.,0.]\n",
    "        for i in range(0,2):\n",
    "            elementDof[3*i]  =bondsNodes[e][i]*3\n",
    "            elementDof[3*i+1]=bondsNodes[e][i]*3+1\n",
    "            elementDof[3*i+2]=bondsNodes[e][i]*3+2\n",
    "        i,j=0,0\n",
    "        print elementDof\n",
    "        for eRow in elementDof:\n",
    "            for eCol in elementDof:\n",
    "                #print Ke(nodeCoordinates[bondsNodes[e][0]-1],nodeCoordinates[bondsNodes[e][1]-1])\n",
    "                k=Ke(nodeCoordinates[bondsNodes[e][0]],nodeCoordinates[bondsNodes[e][1]])[i][0,j]\n",
    "                #k=np.matrix([[0,1,2,3,4,5],\n",
    "                #   [6,7,8,9,10,11],\n",
    "                #   [12,13,14,15,16,17],\n",
    "                #   [18,19,20,21,22,23],\n",
    "                #   [24,25,26,27,28,29],\n",
    "                #   [30,31,32,33,34,35]])[i][0,j]\n",
    "                #print D\n",
    "                D[eRow][0,eCol]+=k\n",
    "                #print bondsNodes[e][0],bondsNodes[e][1],'local:',i,j,'global:',eRow,eCol\n",
    "                #print D\n",
    "                j+=1\n",
    "            j=0\n",
    "            i+=1\n",
    "    return D\n",
    "numberNode=5\n",
    "numberBonds=4\n",
    "bondsNodes=[[1,0],[0,2],[0,3],[4,0]]\n",
    "nodeCoordinates=[[3,3,3],[3,4,3],[4,3,3],[3,2,3],[2,3,3]]\n",
    "D=D_assemble(numberNode,numberBonds,bondsNodes,nodeCoordinates)\n",
    "#print D\n",
    "#print \"   0x  0y  0z  1x  1y  1z  2x  2y  2z  3x  3y  3z  4x  4y  4z\"\n",
    "\n",
    "def D"
   ]
  },
  {
   "cell_type": "code",
   "execution_count": 117,
   "metadata": {
    "collapsed": false
   },
   "outputs": [
    {
     "data": {
      "text/plain": [
       "[0]"
      ]
     },
     "execution_count": 117,
     "metadata": {},
     "output_type": "execute_result"
    }
   ],
   "source": [
    "range(0,numberBonds)"
   ]
  },
  {
   "cell_type": "code",
   "execution_count": 66,
   "metadata": {
    "collapsed": false
   },
   "outputs": [
    {
     "name": "stdout",
     "output_type": "stream",
     "text": [
      "[9, 10, 11, 0.0, 0.0, 0.0]\n",
      "[9, 10, 11, 0, 1, 2]\n"
     ]
    }
   ],
   "source": [
    "numberElements=4\n",
    "elementNodes=[[1,2],[2,3],[3,4],[4,1]]\n",
    "for e in range(0,numberElements):\n",
    "    numEDOF = 6\n",
    "    elementDof=[0.,0.,0.,0.,0.,0.]\n",
    "    for i in range(0,2):\n",
    "        elementDof[3*i]=elementNodes[e][i]*3-3\n",
    "        elementDof[3*i+1]=elementNodes[e][i]*3-2\n",
    "        elementDof[3*i+2]=elementNodes[e][i]*3-1"
   ]
  },
  {
   "cell_type": "markdown",
   "metadata": {},
   "source": [
    "##Kernel Function Calculator"
   ]
  },
  {
   "cell_type": "code",
   "execution_count": 5,
   "metadata": {
    "collapsed": false
   },
   "outputs": [],
   "source": [
    "def FiniteKernel(DV,DVRf,TCut,Tstep,m=1.0,k=1.0,syms='_'):\n",
    "#------------------------------initialize---------------------------\n",
    "    nts=int(TCut/Tstep)\n",
    "    timeSeries = np.linspace(0,TCut,nts)\n",
    "    kernel1 = []\n",
    "    kernelN = []\n",
    "#-----------------------------find kernel---------------------------\n",
    "    [l,X]=np.linalg.eig(DV)\n",
    "    dof=l.size\n",
    "    for i in range(0,dof):\n",
    "        l[i]**=.5\n",
    "    sinF=lambda w,dt:np.sin(w*dt)/w\n",
    "    for dt in timeSeries:\n",
    "        thetaF = []\n",
    "        for i in range(0,dof):\n",
    "            thetaF.append(sinF(l[i],dt))\n",
    "        thetaF=np.diag(thetaF)\n",
    "        #kernel1.append(float(X.T*thetaF*X*DVRf*k/m))\n",
    "        #kernelN.append(float(X.T*thetaF*X*DVRf*k/m)) \n",
    "        kernel1.append(float(DVRf[0]*X*thetaF*X.T*DVRf[0].T))\n",
    "        kernelN.append(float(DVRf[0]*X*thetaF*X.T*(DVRf.T)[-1].T))\n",
    "    #print 'DVRf:',(DVRf.T)[-1].T\n",
    "    l.sort()\n",
    "    print 'w:',l\n",
    "    return kernel1,kernelN,timeSeries\n",
    "\n"
   ]
  },
  {
   "cell_type": "markdown",
   "metadata": {},
   "source": [
    "## Finite-Kernel of 2D Lattice Square"
   ]
  },
  {
   "cell_type": "code",
   "execution_count": 7,
   "metadata": {
    "collapsed": false
   },
   "outputs": [
    {
     "name": "stdout",
     "output_type": "stream",
     "text": [
      "w: [ 1.41555408  1.41956295  1.42620258  1.43541148  1.44710608  1.46118293\n",
      "  1.47752139  1.4959865   1.51643191  1.53870276  1.56263843  1.58807499\n",
      "  1.61484739  1.64279134  1.67174482  1.70154931  1.73205081  1.76310048\n",
      "  1.79455517  1.82627774  1.85813724  1.89000895  1.92177436  1.95332109\n",
      "  1.98454274  2.01533871  2.04561402  2.07527909  2.10424955  2.13244601\n",
      "  2.15979388  2.18622317  2.21166831  2.23606798  2.25936494  2.28150592\n",
      "  2.30244144  2.32212573  2.34051657  2.35757527  2.37326649  2.38755822\n",
      "  2.40042171  2.41183137  2.42176474  2.43020246  2.4371282   2.44252865\n",
      "  2.44639347  2.44871531]\n"
     ]
    },
    {
     "data": {
      "image/png": "[encoded data removed]",
      "text/plain": [
       "<matplotlib.figure.Figure at 0x1106fa150>"
      ]
     },
     "metadata": {},
     "output_type": "display_data"
    }
   ],
   "source": [
    "N=11\n",
    "[kernel1,kernelN,ts]=FiniteKernel(D_square(50,'V',1.0,1.0),D_square(50,'VR_F',1.0,1.0),200,0.001)\n",
    "\n",
    "plt.plot(ts, kernel1,ts, kernelN, '-', linewidth=2)\n",
    "\n",
    "plt.show()"
   ]
  },
  {
   "cell_type": "code",
   "execution_count": null,
   "metadata": {
    "collapsed": true
   },
   "outputs": [],
   "source": []
  }
 ],
 "metadata": {
  "kernelspec": {
   "display_name": "Python 2",
   "language": "python",
   "name": "python2"
  },
  "language_info": {
   "codemirror_mode": {
    "name": "ipython",
    "version": 2
   },
   "file_extension": ".py",
   "mimetype": "text/x-python",
   "name": "python",
   "nbconvert_exporter": "python",
   "pygments_lexer": "ipython2",
   "version": "2.7.10"
  }
 },
 "nbformat": 4,
 "nbformat_minor": 0
}
